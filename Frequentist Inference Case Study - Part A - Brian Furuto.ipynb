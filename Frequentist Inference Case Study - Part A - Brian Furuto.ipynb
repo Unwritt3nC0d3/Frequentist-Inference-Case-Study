{
 "cells": [
  {
   "cell_type": "markdown",
   "metadata": {},
   "source": [
    "# Frequentist Inference Case Study - Part A "
   ]
  },
  {
   "cell_type": "markdown",
   "metadata": {},
   "source": [
    "## 1. Learning objectives"
   ]
  },
  {
   "cell_type": "markdown",
   "metadata": {},
   "source": [
    "Welcome to part A of the Frequentist inference case study! The purpose of this case study is to help you apply the concepts associated with Frequentist inference in Python. Frequentist inference is the process of deriving conclusions about an underlying distribution via the observation of data. In particular, you'll practice writing Python code to apply the following statistical concepts: \n",
    "* the _z_-statistic\n",
    "* the _t_-statistic\n",
    "* the difference and relationship between the two\n",
    "* the Central Limit Theorem, including its assumptions and consequences\n",
    "* how to estimate the population mean and standard deviation from a sample\n",
    "* the concept of a sampling distribution of a test statistic, particularly for the mean\n",
    "* how to combine these concepts to calculate a confidence interval"
   ]
  },
  {
   "cell_type": "markdown",
   "metadata": {},
   "source": [
    "## Prerequisites"
   ]
  },
  {
   "cell_type": "markdown",
   "metadata": {},
   "source": [
    "To be able to complete this notebook, you are expected to have a basic understanding of:\n",
    "* what a random variable is (p.400 of Professor Spiegelhalter's *The Art of Statistics, hereinafter AoS*)\n",
    "* what a population, and a population distribution, are (p. 397 of *AoS*)\n",
    "* a high-level sense of what the normal distribution is (p. 394 of *AoS*)\n",
    "* what the t-statistic is (p. 275 of *AoS*)\n",
    "\n",
    "Happily, these should all be concepts with which you are reasonably familiar after having read ten chapters of Professor Spiegelhalter's book, *The Art of Statistics*.\n",
    "\n",
    "We'll try to relate the concepts in this case study back to page numbers in *The Art of Statistics* so that you can focus on the Python aspects of this case study. The second part (part B) of this case study will involve another, more real-world application of these tools. "
   ]
  },
  {
   "cell_type": "markdown",
   "metadata": {},
   "source": [
    "For this notebook, we will use data sampled from a known normal distribution. This allows us to compare our results with theoretical expectations."
   ]
  },
  {
   "cell_type": "markdown",
   "metadata": {},
   "source": [
    "## 2. An introduction to sampling from the normal distribution"
   ]
  },
  {
   "cell_type": "markdown",
   "metadata": {},
   "source": [
    "First, let's explore the ways we can generate the normal distribution. While there's a fair amount of interest in [sklearn](https://scikit-learn.org/stable/) within the machine learning community, you're likely to have heard of [scipy](https://docs.scipy.org/doc/scipy-0.15.1/reference/index.html) if you're coming from the sciences. For this assignment, you'll use [scipy.stats](https://docs.scipy.org/doc/scipy-0.15.1/reference/tutorial/stats.html) to complete your work. \n",
    "\n",
    "This assignment will require some digging around and getting your hands dirty (your learning is maximized that way)! You should have the research skills and the tenacity to do these tasks independently, but if you struggle, reach out to your immediate community and your mentor for help. "
   ]
  },
  {
   "cell_type": "code",
   "execution_count": 1,
   "metadata": {},
   "outputs": [],
   "source": [
    "from scipy.stats import norm\n",
    "from scipy.stats import t\n",
    "import numpy as np\n",
    "import pandas as pd\n",
    "from numpy.random import seed\n",
    "import matplotlib.pyplot as plt"
   ]
  },
  {
   "cell_type": "markdown",
   "metadata": {},
   "source": [
    "__Q1:__ Call up the documentation for the `norm` function imported above. (Hint: that documentation is [here](https://docs.scipy.org/doc/scipy/reference/generated/scipy.stats.norm.html)). What is the second listed method?"
   ]
  },
  {
   "cell_type": "code",
   "execution_count": 4,
   "metadata": {},
   "outputs": [
    {
     "name": "stdout",
     "output_type": "stream",
     "text": [
      "Help on norm_gen in module scipy.stats._continuous_distns:\n",
      "\n",
      "<scipy.stats._continuous_distns.norm_gen object>\n",
      "    A normal continuous random variable.\n",
      "    \n",
      "    The location (``loc``) keyword specifies the mean.\n",
      "    The scale (``scale``) keyword specifies the standard deviation.\n",
      "    \n",
      "    As an instance of the `rv_continuous` class, `norm` object inherits from it\n",
      "    a collection of generic methods (see below for the full list),\n",
      "    and completes them with details specific for this particular distribution.\n",
      "    \n",
      "    Methods\n",
      "    -------\n",
      "    rvs(loc=0, scale=1, size=1, random_state=None)\n",
      "        Random variates.\n",
      "    pdf(x, loc=0, scale=1)\n",
      "        Probability density function.\n",
      "    logpdf(x, loc=0, scale=1)\n",
      "        Log of the probability density function.\n",
      "    cdf(x, loc=0, scale=1)\n",
      "        Cumulative distribution function.\n",
      "    logcdf(x, loc=0, scale=1)\n",
      "        Log of the cumulative distribution function.\n",
      "    sf(x, loc=0, scale=1)\n",
      "        Survival function  (also defined as ``1 - cdf``, but `sf` is sometimes more accurate).\n",
      "    logsf(x, loc=0, scale=1)\n",
      "        Log of the survival function.\n",
      "    ppf(q, loc=0, scale=1)\n",
      "        Percent point function (inverse of ``cdf`` --- percentiles).\n",
      "    isf(q, loc=0, scale=1)\n",
      "        Inverse survival function (inverse of ``sf``).\n",
      "    moment(order, loc=0, scale=1)\n",
      "        Non-central moment of the specified order.\n",
      "    stats(loc=0, scale=1, moments='mv')\n",
      "        Mean('m'), variance('v'), skew('s'), and/or kurtosis('k').\n",
      "    entropy(loc=0, scale=1)\n",
      "        (Differential) entropy of the RV.\n",
      "    fit(data)\n",
      "        Parameter estimates for generic data.\n",
      "        See `scipy.stats.rv_continuous.fit <https://docs.scipy.org/doc/scipy/reference/generated/scipy.stats.rv_continuous.fit.html#scipy.stats.rv_continuous.fit>`__ for detailed documentation of the\n",
      "        keyword arguments.\n",
      "    expect(func, args=(), loc=0, scale=1, lb=None, ub=None, conditional=False, **kwds)\n",
      "        Expected value of a function (of one argument) with respect to the distribution.\n",
      "    median(loc=0, scale=1)\n",
      "        Median of the distribution.\n",
      "    mean(loc=0, scale=1)\n",
      "        Mean of the distribution.\n",
      "    var(loc=0, scale=1)\n",
      "        Variance of the distribution.\n",
      "    std(loc=0, scale=1)\n",
      "        Standard deviation of the distribution.\n",
      "    interval(confidence, loc=0, scale=1)\n",
      "        Confidence interval with equal areas around the median.\n",
      "    \n",
      "    Notes\n",
      "    -----\n",
      "    The probability density function for `norm` is:\n",
      "    \n",
      "    .. math::\n",
      "    \n",
      "        f(x) = \\frac{\\exp(-x^2/2)}{\\sqrt{2\\pi}}\n",
      "    \n",
      "    for a real number :math:`x`.\n",
      "    \n",
      "    The probability density above is defined in the \"standardized\" form. To shift\n",
      "    and/or scale the distribution use the ``loc`` and ``scale`` parameters.\n",
      "    Specifically, ``norm.pdf(x, loc, scale)`` is identically\n",
      "    equivalent to ``norm.pdf(y) / scale`` with\n",
      "    ``y = (x - loc) / scale``. Note that shifting the location of a distribution\n",
      "    does not make it a \"noncentral\" distribution; noncentral generalizations of\n",
      "    some distributions are available in separate classes.\n",
      "    \n",
      "    Examples\n",
      "    --------\n",
      "    >>> import numpy as np\n",
      "    >>> from scipy.stats import norm\n",
      "    >>> import matplotlib.pyplot as plt\n",
      "    >>> fig, ax = plt.subplots(1, 1)\n",
      "    \n",
      "    Calculate the first four moments:\n",
      "    \n",
      "    \n",
      "    >>> mean, var, skew, kurt = norm.stats(moments='mvsk')\n",
      "    \n",
      "    Display the probability density function (``pdf``):\n",
      "    \n",
      "    >>> x = np.linspace(norm.ppf(0.01),\n",
      "    ...                 norm.ppf(0.99), 100)\n",
      "    >>> ax.plot(x, norm.pdf(x),\n",
      "    ...        'r-', lw=5, alpha=0.6, label='norm pdf')\n",
      "    \n",
      "    Alternatively, the distribution object can be called (as a function)\n",
      "    to fix the shape, location and scale parameters. This returns a \"frozen\"\n",
      "    RV object holding the given parameters fixed.\n",
      "    \n",
      "    Freeze the distribution and display the frozen ``pdf``:\n",
      "    \n",
      "    >>> rv = norm()\n",
      "    >>> ax.plot(x, rv.pdf(x), 'k-', lw=2, label='frozen pdf')\n",
      "    \n",
      "    Check accuracy of ``cdf`` and ``ppf``:\n",
      "    \n",
      "    >>> vals = norm.ppf([0.001, 0.5, 0.999])\n",
      "    >>> np.allclose([0.001, 0.5, 0.999], norm.cdf(vals))\n",
      "    True\n",
      "    \n",
      "    Generate random numbers:\n",
      "    \n",
      "    >>> r = norm.rvs(size=1000)\n",
      "    \n",
      "    And compare the histogram:\n",
      "    \n",
      "    >>> ax.hist(r, density=True, bins='auto', histtype='stepfilled', alpha=0.2)\n",
      "    >>> ax.set_xlim([x[0], x[-1]])\n",
      "    >>> ax.legend(loc='best', frameon=False)\n",
      "    >>> plt.show()\n",
      "\n"
     ]
    }
   ],
   "source": [
    "help(norm)"
   ]
  },
  {
   "cell_type": "markdown",
   "metadata": {},
   "source": [
    "__A:__probability density function\n"
   ]
  },
  {
   "cell_type": "markdown",
   "metadata": {},
   "source": [
    "__Q2:__ Use the method that generates random variates to draw five samples from the standard normal distribution. "
   ]
  },
  {
   "cell_type": "markdown",
   "metadata": {},
   "source": [
    "__A:__"
   ]
  },
  {
   "cell_type": "code",
   "execution_count": 21,
   "metadata": {},
   "outputs": [
    {
     "ename": "SyntaxError",
     "evalue": "invalid decimal literal (1981256996.py, line 4)",
     "output_type": "error",
     "traceback": [
      "\u001b[0;36m  Cell \u001b[0;32mIn[21], line 4\u001b[0;36m\u001b[0m\n\u001b[0;31m    5samples = norm.rvs(size=5, random_state=1)\u001b[0m\n\u001b[0m    ^\u001b[0m\n\u001b[0;31mSyntaxError\u001b[0m\u001b[0;31m:\u001b[0m invalid decimal literal\n"
     ]
    }
   ],
   "source": [
    "seed(47)\n",
    "import numpy as np\n",
    "# draw five samples here\n",
    "fivesamples = norm.rvs(size=5, random_state=1)\n",
    "(fivesamples)"
   ]
  },
  {
   "cell_type": "markdown",
   "metadata": {},
   "source": [
    "__Q3:__ What is the mean of this sample? Is it exactly equal to the value you expected? Hint: the sample was drawn from the standard normal distribution. If you want a reminder of the properties of this distribution, check out p. 85 of *AoS*. "
   ]
  },
  {
   "cell_type": "markdown",
   "metadata": {},
   "source": [
    "__A:__the mean is .0554.  The standard normal distribution suggests the value will fall closer to 0."
   ]
  },
  {
   "cell_type": "code",
   "execution_count": 19,
   "metadata": {},
   "outputs": [
    {
     "data": {
      "text/plain": [
       "0.055371240983643724"
      ]
     },
     "execution_count": 19,
     "metadata": {},
     "output_type": "execute_result"
    }
   ],
   "source": [
    "# Calculate and print the mean here, hint: use np.mean()\n",
    "np.mean(fivesamples)"
   ]
  },
  {
   "cell_type": "markdown",
   "metadata": {},
   "source": [
    "__Q4:__ What is the standard deviation of these numbers? Calculate this manually here as $\\sqrt{\\frac{\\sum_i(x_i - \\bar{x})^2}{n}}$ (This is just the definition of **standard deviation** given by Professor Spiegelhalter on p.403 of *AoS*). Hint: np.sqrt() and np.sum() will be useful here and remember that numPy supports [broadcasting](https://docs.scipy.org/doc/numpy/user/basics.broadcasting.html)."
   ]
  },
  {
   "cell_type": "markdown",
   "metadata": {},
   "source": [
    "__A:__STD is 0.228"
   ]
  },
  {
   "cell_type": "code",
   "execution_count": 20,
   "metadata": {},
   "outputs": [
    {
     "name": "stdout",
     "output_type": "stream",
     "text": [
      "The Standard Deviation is: 1.137603987265565\n"
     ]
    }
   ],
   "source": [
    "std_dev = np.std(fivesamples, ddof=1)\n",
    "print(\"The Standard Deviation is:\", std_dev)"
   ]
  },
  {
   "cell_type": "markdown",
   "metadata": {},
   "source": [
    "Here we have calculated the actual standard deviation of a small data set (of size 5). But in this case, this small data set is actually a sample from our larger (infinite) population. In this case, the population is infinite because we could keep drawing our normal random variates until our computers die! \n",
    "\n",
    "In general, the sample mean we calculate will not be equal to the population mean (as we saw above). A consequence of this is that the sum of squares of the deviations from the _population_ mean will be bigger than the sum of squares of the deviations from the _sample_ mean. In other words, the sum of squares of the deviations from the _sample_ mean is too small to give an unbiased estimate of the _population_ variance. An example of this effect is given [here](https://en.wikipedia.org/wiki/Bessel%27s_correction#Source_of_bias). Scaling our estimate of the variance by the factor $n/(n-1)$ gives an unbiased estimator of the population variance. This factor is known as [Bessel's correction](https://en.wikipedia.org/wiki/Bessel%27s_correction). The consequence of this is that the $n$ in the denominator is replaced by $n-1$.\n",
    "\n",
    "You can see Bessel's correction reflected in Professor Spiegelhalter's definition of **variance** on p. 405 of *AoS*.\n",
    "\n",
    "__Q5:__ If all we had to go on was our five samples, what would be our best estimate of the population standard deviation? Use Bessel's correction ($n-1$ in the denominator), thus $\\sqrt{\\frac{\\sum_i(x_i - \\bar{x})^2}{n-1}}$."
   ]
  },
  {
   "cell_type": "markdown",
   "metadata": {},
   "source": [
    "__A:__As calculated below, using Bessel's correction the STD is 1.138"
   ]
  },
  {
   "cell_type": "code",
   "execution_count": 25,
   "metadata": {},
   "outputs": [
    {
     "data": {
      "text/plain": [
       "1.137603987265565"
      ]
     },
     "execution_count": 25,
     "metadata": {},
     "output_type": "execute_result"
    }
   ],
   "source": [
    "#STD using Bessel's correction\n",
    "np.sqrt(np.sum((fivesamples-np.mean(fivesamples))**2/(len(fivesamples)-1)))"
   ]
  },
  {
   "cell_type": "markdown",
   "metadata": {},
   "source": [
    "__Q6:__ Now use numpy's std function to calculate the standard deviation of our random samples. Which of the above standard deviations did it return?"
   ]
  },
  {
   "cell_type": "markdown",
   "metadata": {},
   "source": [
    "__A:__Without using Bessel's correction the standard deviation is 1.018"
   ]
  },
  {
   "cell_type": "code",
   "execution_count": 28,
   "metadata": {},
   "outputs": [
    {
     "data": {
      "text/plain": [
       "1.0175039388002434"
      ]
     },
     "execution_count": 28,
     "metadata": {},
     "output_type": "execute_result"
    }
   ],
   "source": [
    "np.std(fivesamples)"
   ]
  },
  {
   "cell_type": "markdown",
   "metadata": {},
   "source": [
    "__Q7:__ Consult the documentation for np.std() to see how to apply the correction for estimating the population parameter and verify this produces the expected result."
   ]
  },
  {
   "cell_type": "markdown",
   "metadata": {},
   "source": [
    "__A:__The np.std() documentation, ddof can be adjusted in the np.std() method."
   ]
  },
  {
   "cell_type": "code",
   "execution_count": 29,
   "metadata": {},
   "outputs": [
    {
     "data": {
      "text/plain": [
       "1.137603987265565"
      ]
     },
     "execution_count": 29,
     "metadata": {},
     "output_type": "execute_result"
    }
   ],
   "source": [
    "np.std(fivesamples, ddof=1)"
   ]
  },
  {
   "cell_type": "code",
   "execution_count": 32,
   "metadata": {},
   "outputs": [
    {
     "data": {
      "text/plain": [
       "True"
      ]
     },
     "execution_count": 32,
     "metadata": {},
     "output_type": "execute_result"
    }
   ],
   "source": [
    "#Verification of the results\n",
    "(np.std(fivesamples, ddof=1)) == (np.sqrt(np.sum((fivesamples-np.mean(fivesamples))**2)/(len(fivesamples)-1)))"
   ]
  },
  {
   "cell_type": "markdown",
   "metadata": {},
   "source": [
    "### Summary of section"
   ]
  },
  {
   "cell_type": "markdown",
   "metadata": {},
   "source": [
    "In this section, you've been introduced to the scipy.stats package and used it to draw a small sample from the standard normal distribution. You've calculated the average (the mean) of this sample and seen that this is not exactly equal to the expected population parameter (which we know because we're generating the random variates from a specific, known distribution). You've been introduced to two ways of calculating the standard deviation; one uses $n$ in the denominator and the other uses $n-1$ (Bessel's correction). You've also seen which of these calculations np.std() performs by default and how to get it to generate the other."
   ]
  },
  {
   "cell_type": "markdown",
   "metadata": {},
   "source": [
    "You use $n$ as the denominator if you want to calculate the standard deviation of a sequence of numbers. You use $n-1$ if you are using this sequence of numbers to estimate the population parameter. This brings us to some terminology that can be a little confusing.\n",
    "\n",
    "The population parameter is traditionally written as $\\sigma$ and the sample statistic as $s$. Rather unhelpfully, $s$ is also called the sample standard deviation (using $n-1$) whereas the standard deviation of the sample uses $n$. That's right, we have the sample standard deviation and the standard deviation of the sample and they're not the same thing!\n",
    "\n",
    "The sample standard deviation\n",
    "\\begin{equation}\n",
    "s = \\sqrt{\\frac{\\sum_i(x_i - \\bar{x})^2}{n-1}} \\approx \\sigma,\n",
    "\\end{equation}\n",
    "is our best (unbiased) estimate of the population parameter ($\\sigma$).\n",
    "\n",
    "If your dataset _is_ your entire population, you simply want to calculate the population parameter, $\\sigma$, via\n",
    "\\begin{equation}\n",
    "\\sigma = \\sqrt{\\frac{\\sum_i(x_i - \\bar{x})^2}{n}}\n",
    "\\end{equation}\n",
    "as you have complete, full knowledge of your population. In other words, your sample _is_ your population. It's worth noting that we're dealing with what Professor Spiegehalter describes on p. 92 of *AoS* as a **metaphorical population**: we have all the data, and we act as if the data-point is taken from a population at random. We can think of this population as an imaginary space of possibilities. \n",
    "\n",
    "If, however, you have sampled _from_ your population, you only have partial knowledge of the state of your population. In this case, the standard deviation of your sample is not an unbiased estimate of the standard deviation of the population, in which case you seek to estimate that population parameter via the sample standard deviation, which uses the $n-1$ denominator."
   ]
  },
  {
   "cell_type": "markdown",
   "metadata": {},
   "source": [
    "Great work so far! Now let's dive deeper."
   ]
  },
  {
   "cell_type": "markdown",
   "metadata": {},
   "source": [
    "## 3. Sampling distributions"
   ]
  },
  {
   "cell_type": "markdown",
   "metadata": {},
   "source": [
    "So far we've been dealing with the concept of taking a sample from a population to infer the population parameters. One statistic we calculated for a sample was the mean. As our samples will be expected to vary from one draw to another, so will our sample statistics. If we were to perform repeat draws of size $n$ and calculate the mean of each, we would expect to obtain a distribution of values. This is the sampling distribution of the mean. **The Central Limit Theorem (CLT)** tells us that such a distribution will approach a normal distribution as $n$ increases (the intuitions behind the CLT are covered in full on p. 236 of *AoS*). For the sampling distribution of the mean, the standard deviation of this distribution is given by\n",
    "\n",
    "\\begin{equation}\n",
    "\\sigma_{mean} = \\frac{\\sigma}{\\sqrt n}\n",
    "\\end{equation}\n",
    "\n",
    "where $\\sigma_{mean}$ is the standard deviation of the sampling distribution of the mean and $\\sigma$ is the standard deviation of the population (the population parameter)."
   ]
  },
  {
   "cell_type": "markdown",
   "metadata": {},
   "source": [
    "This is important because typically we are dealing with samples from populations and all we know about the population is what we see in the sample. From this sample, we want to make inferences about the population. We may do this, for example, by looking at the histogram of the values and by calculating the mean and standard deviation (as estimates of the population parameters), and so we are intrinsically interested in how these quantities vary across samples. \n",
    "\n",
    "In other words, now that we've taken one sample of size $n$ and made some claims about the general population, what if we were to take another sample of size $n$? Would we get the same result? Would we make the same claims about the general population? This brings us to a fundamental question: _when we make some inference about a population based on our sample, how confident can we be that we've got it 'right'?_\n",
    "\n",
    "We need to think about **estimates and confidence intervals**: those concepts covered in Chapter 7, p. 189, of *AoS*."
   ]
  },
  {
   "cell_type": "markdown",
   "metadata": {},
   "source": [
    "Now, the standard normal distribution (with its variance equal to its standard deviation of one) would not be a great illustration of a key point. Instead, let's imagine we live in a town of 50,000 people and we know the height of everyone in this town. We will have 50,000 numbers that tell us everything about our population. We'll simulate these numbers now and put ourselves in one particular town, called 'town 47', where the population mean height is 172 cm and population standard deviation is 5 cm."
   ]
  },
  {
   "cell_type": "code",
   "execution_count": 35,
   "metadata": {},
   "outputs": [],
   "source": [
    "seed(47)\n",
    "pop_heights = norm.rvs(172, 5, size=50000)"
   ]
  },
  {
   "cell_type": "code",
   "execution_count": 36,
   "metadata": {},
   "outputs": [
    {
     "data": {
      "image/png": "[encoded data removed]",
      "text/plain": [
       "<Figure size 640x480 with 1 Axes>"
      ]
     },
     "metadata": {},
     "output_type": "display_data"
    }
   ],
   "source": [
    "_ = plt.hist(pop_heights, bins=30)\n",
    "_ = plt.xlabel('height (cm)')\n",
    "_ = plt.ylabel('number of people')\n",
    "_ = plt.title('Distribution of heights in entire town population')\n",
    "_ = plt.axvline(172, color='r')\n",
    "_ = plt.axvline(172+5, color='r', linestyle='--')\n",
    "_ = plt.axvline(172-5, color='r', linestyle='--')\n",
    "_ = plt.axvline(172+10, color='r', linestyle='-.')\n",
    "_ = plt.axvline(172-10, color='r', linestyle='-.')"
   ]
  },
  {
   "cell_type": "markdown",
   "metadata": {},
   "source": [
    "Now, 50,000 people is rather a lot to chase after with a tape measure. If all you want to know is the average height of the townsfolk, then can you just go out and measure a sample to get a pretty good estimate of the average height?"
   ]
  },
  {
   "cell_type": "code",
   "execution_count": 37,
   "metadata": {},
   "outputs": [],
   "source": [
    "def townsfolk_sampler(n):\n",
    "    return np.random.choice(pop_heights, n)"
   ]
  },
  {
   "cell_type": "markdown",
   "metadata": {},
   "source": [
    "Let's say you go out one day and randomly sample 10 people to measure."
   ]
  },
  {
   "cell_type": "code",
   "execution_count": 38,
   "metadata": {},
   "outputs": [],
   "source": [
    "seed(47)\n",
    "daily_sample1 = townsfolk_sampler(10)"
   ]
  },
  {
   "cell_type": "code",
   "execution_count": 8,
   "metadata": {},
   "outputs": [
    {
     "data": {
      "image/png": "[encoded data removed]",
      "text/plain": [
       "<Figure size 432x288 with 1 Axes>"
      ]
     },
     "metadata": {
      "needs_background": "light"
     },
     "output_type": "display_data"
    }
   ],
   "source": [
    "_ = plt.hist(daily_sample1, bins=10)\n",
    "_ = plt.xlabel('height (cm)')\n",
    "_ = plt.ylabel('number of people')\n",
    "_ = plt.title('Distribution of heights in sample size 10')"
   ]
  },
  {
   "cell_type": "markdown",
   "metadata": {},
   "source": [
    "The sample distribution doesn't resemble what we take the population distribution to be. What do we get for the mean?"
   ]
  },
  {
   "cell_type": "code",
   "execution_count": 39,
   "metadata": {},
   "outputs": [
    {
     "data": {
      "text/plain": [
       "173.47911444163503"
      ]
     },
     "execution_count": 39,
     "metadata": {},
     "output_type": "execute_result"
    }
   ],
   "source": [
    "np.mean(daily_sample1)"
   ]
  },
  {
   "cell_type": "markdown",
   "metadata": {},
   "source": [
    "And if we went out and repeated this experiment?"
   ]
  },
  {
   "cell_type": "code",
   "execution_count": 40,
   "metadata": {},
   "outputs": [],
   "source": [
    "daily_sample2 = townsfolk_sampler(10)"
   ]
  },
  {
   "cell_type": "code",
   "execution_count": 41,
   "metadata": {},
   "outputs": [
    {
     "data": {
      "text/plain": [
       "173.7317666636263"
      ]
     },
     "execution_count": 41,
     "metadata": {},
     "output_type": "execute_result"
    }
   ],
   "source": [
    "np.mean(daily_sample2)"
   ]
  },
  {
   "cell_type": "markdown",
   "metadata": {},
   "source": [
    "__Q8:__ Simulate performing this random trial every day for a year, calculating the mean of each daily sample of 10, and plot the resultant sampling distribution of the mean."
   ]
  },
  {
   "cell_type": "markdown",
   "metadata": {},
   "source": [
    "__A:__"
   ]
  },
  {
   "cell_type": "code",
   "execution_count": null,
   "metadata": {},
   "outputs": [],
   "source": []
  },
  {
   "cell_type": "code",
   "execution_count": 42,
   "metadata": {},
   "outputs": [
    {
     "name": "stdout",
     "output_type": "stream",
     "text": [
      "[173.47911444163503, 173.7317666636263, 172.54893867276104, 171.43257319553967, 172.7151613148319, 172.82799509412092, 172.72104620090087, 171.35684251559897, 172.06082915612325, 175.02116165843373, 172.87297442836729, 173.10695709894807, 174.28251319331625, 172.16799412617846, 172.2677166306168, 174.1148759511088, 173.76989560652873, 173.53587661697912, 171.73109636549412, 173.6192933521118, 171.4122703231149, 169.8912622859572, 171.50855064552047, 170.79777102526515, 172.13293591535268, 174.04237966386012, 171.41699712312, 169.68751210980005, 170.70138979236123, 170.50288822335273, 171.1227335807866, 172.18184913764566, 172.68945746436543, 171.0001004904461, 170.89451146667253, 171.09020297014567, 171.25533609966612, 172.10797845540236, 171.08827013545948, 172.6513531230999, 175.070689805427, 169.97597644140453, 172.2797674841427, 169.68001261485807, 172.80409332096238, 172.55229420480956, 173.83054118621465, 173.37568836233626, 171.89359355779794, 171.6665742212276, 169.9004743876151, 172.72984382291025, 169.46043079819069, 171.9066883458138, 174.31024504533102, 172.9549236584936, 170.26013472404284, 171.62782407697222, 171.93287814147618, 172.67107823125573, 173.35560534761376, 171.5928923513852, 174.01996330433786, 168.70526103039566, 174.4291544932485, 172.99782989083792, 169.85679627411287, 170.51072224889845, 169.90321605710665, 170.15223960286718, 171.69847097209998, 172.1247564115574, 170.7393421379653, 169.418394777909, 172.90126387627427, 173.349965975603, 172.31408857482649, 170.95008031433505, 168.6026063397666, 169.23740477644245, 168.98395307845203, 170.24977041291908, 172.28866881866844, 169.4954901013438, 172.14048141305437, 170.63029872192917, 170.81450578452282, 172.7564010423859, 172.270704952318, 172.75102003444198, 170.29337424391514, 171.37511929823515, 171.19824057530133, 175.6782843800554, 169.98345772406594, 171.97617797193666, 170.56013527190584, 171.50909868435141, 172.75712339394886, 173.2095114832777, 172.10653392996448, 173.14812711662768, 170.10688635551668, 173.3757843013828, 172.1393269463663, 169.68126101129226, 173.51940617466894, 170.64933192553676, 172.9302606791998, 171.55990939669806, 171.92304718402258, 173.64455234145223, 171.97230993627605, 171.41392942304256, 173.09648158348617, 171.59077758086715, 172.02580024296842, 172.21608501143896, 172.0071934611132, 172.33599701625351, 171.028648188148, 173.3730965923039, 171.63339660555894, 172.24280703841163, 170.96259686809128, 175.03094575416975, 173.6428041806974, 172.95723098557428, 171.9821148360482, 172.86230119411863, 173.2818959291762, 170.74391386736906, 171.85618466569377, 174.516404929308, 171.9757816604739, 172.8532356879273, 170.8863347896039, 172.02699101055003, 171.00702877519421, 174.4668408638607, 167.8482928708372, 170.87326329719744, 172.24076331599596, 174.06036645523105, 173.65199868699432, 171.31020238919996, 172.8757717751434, 169.00973760863025, 169.36066339463133, 172.8394581127686, 173.2849490876725, 167.94708299375463, 171.4944813760528, 173.26676195725375, 174.36603867262343, 169.3835107781193, 170.81702577580646, 172.65881074097973, 170.5043935231086, 174.48530539837125, 169.28374480528095, 173.11587199242774, 169.48869927808207, 174.05802462897157, 170.41037396562533, 170.3850832762101, 171.14614333175618, 171.28870072653964, 172.76671420430083, 169.95471759650735, 172.86382182013728, 172.6225511373559, 172.33656268781826, 168.62332166556928, 172.7111357521249, 171.82186352481727, 173.28085693950445, 169.06595378147523, 174.0801392411933, 174.9773349255948, 171.28213572811805, 171.6730813592417, 169.45634682144438, 173.43393215657332, 170.86374559269453, 173.21556904620837, 169.1862678724352, 171.20026812399502, 171.47106714440469, 173.32428817479482, 171.2691694937409, 169.74157082970493, 172.91823143229223, 171.78081907440483, 170.11860847293156, 171.87026079537708, 170.74069830935466, 172.46488874903895, 172.98225023418647, 174.46081103471732, 173.49400936370455, 169.51557464300683, 171.73063129611373, 170.7169353336031, 174.6602048576773, 172.3849780185491, 172.79482744498335, 172.66798523120897, 173.03683236655385, 169.03388574785288, 170.27625725905142, 171.6548397802826, 173.9110065626827, 172.36666043469813, 173.0806786048489, 170.5454321114398, 171.63218644552478, 173.75734815005714, 173.4663602192376, 173.93185477413437, 172.21851080918435, 174.99259084185877, 172.79446184726748, 171.51052052455086, 173.24255009028505, 171.8830523292385, 172.78335534863947, 171.91694787219325, 170.12924519370299, 171.6125036310404, 172.90245069941636, 173.09703321285585, 172.13187273881533, 173.1671394346884, 170.08389854480225, 173.93739863468136, 171.3831801935383, 173.0648792145468, 171.67286845324548, 172.74454332610662, 170.29325491672353, 168.50440626366915, 172.52943025832766, 168.22985199166658, 173.63375684095035, 173.8223904901435, 170.64928888578683, 171.7803289727296, 169.31058690937567, 170.90044256609488, 172.67827045507593, 172.0422309421312, 173.17659183674408, 169.49895501607463, 172.8853684043484, 173.3982671958468, 169.6718344723641, 169.3434812632541, 175.1631703883851, 170.59481340389107, 170.58426243494063, 172.72334025117496, 172.1307888143033, 169.01609630447473, 171.15681558897592, 174.684931280434, 169.29446475103575, 171.65686646102714, 173.8172097345154, 170.72391555094927, 170.5159267446483, 174.0926258645925, 168.74354262686796, 171.60449755276952, 173.35249290348906, 169.59524622005407, 172.31825115793964, 173.43051530494725, 175.97945459508188, 172.41542957870462, 172.48108913345823, 175.73235560113446, 173.30917671705808, 170.5016307174128, 171.47442800822694, 172.921116303701, 171.1639042540142, 173.15958685889186, 170.6199464194715, 170.84177739176616, 171.99038709269252, 174.23130175705404, 170.4855060493516, 172.02085224658146, 172.08650337240257, 173.12384811687497, 170.09817772721084, 171.4714587067785, 172.78753151796303, 172.85937740574727, 169.39067373385993, 172.88433436767303, 172.09661414856313, 172.27425697400423, 170.7114548591524, 172.19296597942235, 167.52865965907253, 172.32570464261443, 172.72742669079858, 172.5216957174198, 172.05940736419612, 168.8771648188222, 170.44810196307384, 173.01149455582384, 172.52292732563117, 169.7669347411906, 169.465402331526, 173.02223016664223, 170.27061511503928, 171.18421420659692, 173.06750477700962, 173.43258352486112, 171.82939845035773, 170.92672944980677, 169.81785832026858, 171.92871073981357, 170.34135388864743, 169.05442315458353, 172.84601765466334, 171.73522189318317, 169.2123811879794, 172.29730173923366, 169.99961438919348, 170.02830791269838, 171.75064789746975, 170.766935167691, 173.9810026650127, 169.92358516806348, 174.53205578998305, 173.21890262201072, 174.25370792104414, 172.91850748641357, 172.6887688830941, 172.064319088991, 169.88770099269323, 171.46079489790765, 171.48307828152147, 172.59879898682084, 172.37504542447692, 168.70639919115436, 172.76066642690037, 171.6634185490236, 173.98434386877807, 171.42827851034042, 171.77118445785496, 169.17922506646468, 173.782895546607, 170.82035700816542, 170.98291389030948, 172.02218170287054, 173.20080178649226, 172.85589043208137, 171.9024897421873, 170.45743937442882, 171.64487927395743]\n"
     ]
    }
   ],
   "source": [
    "seed(47)\n",
    "# take your samples here\n",
    "\n",
    "daily_mean = []\n",
    "for i in range(365): #365 days in a year\n",
    "   daily_mean.append(np.mean(townsfolk_sampler(10)))\n",
    "print(daily_mean)"
   ]
  },
  {
   "cell_type": "code",
   "execution_count": 43,
   "metadata": {},
   "outputs": [
    {
     "data": {
      "text/plain": [
       "Text(0.5, 1.0, 'Height of Distribution')"
      ]
     },
     "execution_count": 43,
     "metadata": {},
     "output_type": "execute_result"
    },
    {
     "data": {
      "image/png": "[encoded data removed]",
      "text/plain": [
       "<Figure size 640x480 with 1 Axes>"
      ]
     },
     "metadata": {},
     "output_type": "display_data"
    }
   ],
   "source": [
    "plt.hist(daily_mean, bins=50)\n",
    "plt.xlabel('Daily Mean Hgt (cm)')\n",
    "plt.ylabel('# of People')\n",
    "plt.title('Height of Distribution')"
   ]
  },
  {
   "cell_type": "markdown",
   "metadata": {},
   "source": [
    "The above is the distribution of the means of samples of size 10 taken from our population. The Central Limit Theorem tells us the expected mean of this distribution will be equal to the population mean, and standard deviation will be $\\sigma / \\sqrt n$, which, in this case, should be approximately 1.58."
   ]
  },
  {
   "cell_type": "markdown",
   "metadata": {},
   "source": [
    "__Q9:__ Verify the above results from the CLT."
   ]
  },
  {
   "cell_type": "markdown",
   "metadata": {},
   "source": [
    "__A:__"
   ]
  },
  {
   "cell_type": "code",
   "execution_count": 44,
   "metadata": {},
   "outputs": [
    {
     "data": {
      "text/plain": [
       "171.8660049358649"
      ]
     },
     "execution_count": 44,
     "metadata": {},
     "output_type": "execute_result"
    }
   ],
   "source": [
    "#Sampling mean\n",
    "np.mean(daily_mean)"
   ]
  },
  {
   "cell_type": "code",
   "execution_count": 45,
   "metadata": {},
   "outputs": [
    {
     "data": {
      "text/plain": [
       "1.5756704135286475"
      ]
     },
     "execution_count": 45,
     "metadata": {},
     "output_type": "execute_result"
    }
   ],
   "source": [
    "#Sampling standard deviation (STD)\n",
    "np.std(daily_mean)"
   ]
  },
  {
   "cell_type": "markdown",
   "metadata": {},
   "source": [
    "Remember, in this instance, we knew our population parameters, that the average height really is 172 cm and the standard deviation is 5 cm, and we see some of our daily estimates of the population mean were as low as around 168 and some as high as 176."
   ]
  },
  {
   "cell_type": "markdown",
   "metadata": {},
   "source": [
    "__Q10:__ Repeat the above year's worth of samples but for a sample size of 50 (perhaps you had a bigger budget for conducting surveys that year)! Would you expect your distribution of sample means to be wider (more variable) or narrower (more consistent)? Compare your resultant summary statistics to those predicted by the CLT."
   ]
  },
  {
   "cell_type": "markdown",
   "metadata": {},
   "source": [
    "__A:__"
   ]
  },
  {
   "cell_type": "code",
   "execution_count": 46,
   "metadata": {},
   "outputs": [
    {
     "name": "stdout",
     "output_type": "stream",
     "text": [
      "[172.7815108576788, 172.79757492503552, 172.9396310954854, 173.3542075784445, 171.1485580390421, 171.27023338249884, 171.57773042798325, 171.63862815675472, 171.96210793335894, 172.66373830647717, 171.6615364799722, 171.88936776644812, 172.4205753053962, 170.68416081476462, 171.37644563516122, 170.89082919619474, 170.63167276488755, 171.84458610711957, 171.7056952443146, 172.0024093610841, 172.17533172997156, 171.66803383747916, 172.41006409365593, 172.03517066252826, 171.84810905850273, 173.29507939012166, 172.47483621040422, 172.24808622542724, 171.7349369252512, 171.0791666560747, 172.0718628174714, 171.56980924327706, 171.27134293407755, 171.10827182706282, 171.83147861260113, 172.64522968251705, 171.34184833161441, 171.67949207236762, 171.1656798606149, 172.50378182453488, 172.02347109882115, 171.98370176182962, 172.25788852831275, 172.66663634007872, 172.95172682262927, 171.6650208749629, 172.27647892611563, 172.56057396442372, 170.63814005426747, 171.2926075648261, 172.05628333087486, 171.63431334474822, 171.12226067877384, 172.0354775555923, 171.66181713847348, 172.74777937134553, 172.69973603545813, 171.7412662455689, 172.16291010361644, 172.0680786949149, 171.47146681665058, 171.45929053786557, 171.38381920550947, 170.74187931219902, 171.81481490446072, 171.1811454661782, 170.65765062531491, 172.48449628255221, 172.3626008744472, 171.3248233563762, 172.32157836257954, 171.3575146428834, 172.01230012182947, 171.45586797475937, 172.60832644769337, 172.90923064763888, 171.8232960400748, 172.02353512146678, 172.69244683833068, 172.5943354823301, 171.99559210545397, 170.88697444561848, 171.1287369020899, 173.3049050979804, 172.69005486736165, 171.31418515136443, 171.93620537662483, 170.84661950770945, 171.9420815386141, 172.7083537460361, 172.1068195680666, 172.08204873872012, 172.0857165025829, 172.28737626070964, 172.04409392625038, 171.72714932124234, 171.6108994453248, 171.40343323871966, 172.30606391429757, 173.14332165770466, 172.27657327770484, 171.86275141603662, 171.50224664098383, 170.07952858877113, 172.5189009341571, 171.22251422041813, 172.67348326757946, 171.3293814179121, 171.00380509699332, 172.04855887469952, 172.35372679227385, 170.67921568704617, 172.99986959212052, 172.26329470364595, 172.0372815194926, 172.35291480579843, 172.11903049105516, 172.0066044678251, 172.46448231204985, 172.4842815283576, 173.0169980361144, 170.89881785435747, 171.42254596527545, 171.37289809789033, 171.2414752854563, 172.86603311439686, 172.39453776258665, 171.30716428108641, 171.4019540281487, 172.76196180965368, 172.32905324065024, 172.3554490722028, 172.5489706719045, 172.98899631619722, 171.2300829660369, 171.7600764723803, 171.15894560780814, 172.2999306331501, 171.83028602099984, 171.32862238423687, 170.77936767894244, 172.36292504264466, 172.0627351161584, 172.4572213189606, 171.47259301389403, 172.70448049640206, 170.9033793774536, 171.4977384620653, 171.92281752488395, 172.86154988875325, 172.8406753273718, 171.93324378922023, 171.74883388697694, 171.98380721046607, 171.46917463958798, 172.6146893473156, 172.91164033636466, 173.15753287968465, 172.27759829362836, 171.6774296769677, 171.54975020959088, 171.18582241213085, 171.66755046501711, 172.41658296742696, 173.04107187033074, 172.82076706195545, 171.46704286023976, 172.96233338098062, 172.12934776128904, 172.08330964582936, 171.8006916652453, 172.34308489334754, 171.88215305794077, 171.1559085024102, 171.85364449530417, 172.93460329977185, 173.18000857755993, 171.63724982728382, 173.4162760941612, 171.45107342933244, 170.76490777374693, 171.63809254655368, 171.74032428812748, 173.80301248510375, 171.74462296299367, 173.6235349342996, 171.2647502513369, 172.06979893037817, 172.17030823278597, 170.44348581706814, 172.73644707827924, 172.19090153359073, 170.6578604779148, 172.10099771905325, 171.71531553821683, 171.97867899672087, 171.99897228560974, 172.4364591414134, 171.1243322935377, 172.03204756684772, 171.30211257997559, 172.00669486226315, 172.38311872523292, 171.33568707613824, 171.33985719376716, 171.95870433759694, 171.1496261610421, 172.5782952059696, 172.42033433556662, 171.54928742914416, 172.5723730532069, 171.56614037303956, 171.37921101331048, 171.52449936229027, 171.33306899210882, 171.82625547275902, 171.44376529985166, 171.9873267301407, 172.0094762498349, 172.81511936308092, 171.91731067977227, 172.0977196544409, 172.32574513267085, 172.60347671265737, 172.44053362590222, 170.7468452174613, 170.98868067184708, 171.84561306662016, 171.8761956044929, 173.16669451210873, 171.758230409592, 172.31744287207303, 172.26066373967592, 172.90387119314428, 172.1542094707465, 172.41611963294156, 170.69078115925237, 172.74649501887535, 171.07615434950935, 172.02698832176975, 172.00554677262645, 172.74745263250585, 171.65945615758167, 172.42931787037676, 171.31139266156774, 172.86340638614564, 172.63046912414976, 171.90607197945067, 170.72003646709956, 172.10949275660838, 171.45152053467376, 171.86770717358283, 171.39371405813117, 172.14407557961246, 171.86145845615715, 171.0643157579227, 171.11107165580725, 171.97515142159185, 172.2507452119935, 172.1856139091256, 172.48672545325527, 172.62914954558713, 172.8416069041034, 172.95766914878197, 173.10461610473183, 171.41466281567926, 171.89091850205338, 171.91765493682541, 171.3856728570194, 172.5580115051518, 170.83751768580808, 172.60219501605832, 171.7505797307657, 171.9617303911309, 171.84660491414547, 172.35776791909186, 171.2458779978962, 171.93438007088704, 171.8606276617006, 171.84556709017835, 171.44970933561854, 172.74576860936187, 170.38777847996414, 172.3466863540159, 172.8038464437931, 171.91877900815456, 172.66506616836838, 170.78590101157235, 172.11850648936783, 170.75665956609814, 171.7151020651713, 172.10742863250215, 172.51206031029852, 171.65287206192647, 172.55011484163367, 171.80014021314176, 171.68322902960838, 171.72240274574912, 171.58157929787114, 172.89233455637458, 171.35548749762108, 171.21277983252344, 172.50712890942086, 170.60810840182512, 172.58764074576774, 172.59321378019294, 172.75315782350623, 171.78472781834543, 170.56401239103522, 172.65025382629744, 172.50016154070934, 171.01133751509252, 171.89707218069572, 171.39777017939866, 171.5888706941444, 172.17453748533066, 172.5422328160275, 171.25478419429447, 171.48147133549224, 171.46642822745997, 171.58713991008008, 172.04420677191985, 172.82918744818838, 172.51828644828274, 172.5579170585349, 170.41746242201705, 172.21333956770403, 170.64348987977087, 172.4764043893837, 171.8229891306343, 170.67173816614144, 172.6966076913146, 171.6376245764548, 172.02274650961598, 172.59149521166134, 173.04572889665104, 171.42114339710554, 171.9158785872262, 172.52349847658462, 171.99752954585546, 172.6785554217261, 171.36004753537688, 171.60437385324246, 172.2211546793179, 171.55142175857543, 171.1090944569839, 171.0826709592788, 172.4930814954672, 171.0924260704737, 172.17588303663732, 172.3121000669372, 171.559746981286, 172.96717428468912, 170.9695688866329, 172.40049192809616, 172.8644173394355, 171.11341965338775, 170.43821023646333, 171.3745857265041, 172.38010537944785, 173.39919328106328, 172.57927553982918, 171.7523151509625, 171.92714893397323, 172.78806643087367]\n"
     ]
    }
   ],
   "source": [
    "seed(47)\n",
    "# calculate daily means from the larger sample size here\n",
    "daily_mean_sample50 = []\n",
    "for i in range (365):\n",
    "    daily_mean_sample50.append(np.mean(townsfolk_sampler(50)))\n",
    "print(daily_mean_sample50)"
   ]
  },
  {
   "cell_type": "code",
   "execution_count": 50,
   "metadata": {},
   "outputs": [
    {
     "data": {
      "text/plain": [
       "Text(0.5, 1.0, 'Height Distrubtion (50 samples/day)')"
      ]
     },
     "execution_count": 50,
     "metadata": {},
     "output_type": "execute_result"
    },
    {
     "data": {
      "image/png": "[encoded data removed]",
      "text/plain": [
       "<Figure size 640x480 with 1 Axes>"
      ]
     },
     "metadata": {},
     "output_type": "display_data"
    }
   ],
   "source": [
    "#Histogram of the Sample size 50\n",
    "plt.hist(daily_mean_sample50, bins=50)\n",
    "plt.xlabel('Daily Mean Hgt (cm)')\n",
    "plt.ylabel('# of People')\n",
    "plt.title('Height Distrubtion (50 samples/day)')\n"
   ]
  },
  {
   "cell_type": "markdown",
   "metadata": {},
   "source": [
    "What we've seen so far, then, is that we can estimate population parameters from a sample from the population, and that samples have their own distributions. Furthermore, the larger the sample size, the narrower are those sampling distributions."
   ]
  },
  {
   "cell_type": "code",
   "execution_count": null,
   "metadata": {},
   "outputs": [],
   "source": []
  },
  {
   "cell_type": "markdown",
   "metadata": {},
   "source": [
    "### Normally testing time!"
   ]
  },
  {
   "cell_type": "markdown",
   "metadata": {},
   "source": [
    "All of the above is well and good. We've been sampling from a population we know is normally distributed, we've come to understand when to use $n$ and when to use $n-1$ in the denominator to calculate the spread of a distribution, and we've  seen the Central Limit Theorem in action for a sampling distribution. All seems very well behaved in Frequentist land. But, well, why should we really care?"
   ]
  },
  {
   "cell_type": "markdown",
   "metadata": {},
   "source": [
    "Remember, we rarely (if ever) actually know our population parameters but we still have to estimate them somehow. If we want to make inferences to conclusions like \"this observation is unusual\" or \"my population mean has changed\" then we need to have some idea of what the underlying distribution is so we can calculate relevant probabilities. In frequentist inference, we use the formulae above to deduce these population parameters. Take a moment in the next part of this assignment to refresh your understanding of how these probabilities work."
   ]
  },
  {
   "cell_type": "markdown",
   "metadata": {},
   "source": [
    "Recall some basic properties of the standard normal distribution, such as that about 68% of observations are within plus or minus 1 standard deviation of the mean. Check out the precise definition of a normal distribution on p. 394 of *AoS*. \n",
    "\n",
    "__Q11:__ Using this fact, calculate the probability of observing the value 1 or less in a single observation from the standard normal distribution. Hint: you may find it helpful to sketch the standard normal distribution (the familiar bell shape) and mark the number of standard deviations from the mean on the x-axis and shade the regions of the curve that contain certain percentages of the population."
   ]
  },
  {
   "cell_type": "markdown",
   "metadata": {},
   "source": [
    "__A:__Observing a value of 1 or less indicates the sample is at least 1 standard deviation away from the mean.  Given 68% is within 1 std, probability of observing 1 or less would be 16% or less."
   ]
  },
  {
   "cell_type": "markdown",
   "metadata": {},
   "source": [
    "Calculating this probability involved calculating the area under the curve from the value of 1 and below. To put it in mathematical terms, we need to *integrate* the probability density function. We could just add together the known areas of chunks (from -Inf to 0 and then 0 to $+\\sigma$ in the example above). One way to do this is to look up tables (literally). Fortunately, scipy has this functionality built in with the cdf() function."
   ]
  },
  {
   "cell_type": "markdown",
   "metadata": {},
   "source": [
    "__Q12:__ Use the cdf() function to answer the question above again and verify you get the same answer."
   ]
  },
  {
   "cell_type": "markdown",
   "metadata": {},
   "source": [
    "__A:__"
   ]
  },
  {
   "cell_type": "code",
   "execution_count": 52,
   "metadata": {},
   "outputs": [
    {
     "data": {
      "text/plain": [
       "0.8413447460685429"
      ]
     },
     "execution_count": 52,
     "metadata": {},
     "output_type": "execute_result"
    }
   ],
   "source": [
    "norm.cdf(1)"
   ]
  },
  {
   "cell_type": "markdown",
   "metadata": {},
   "source": [
    "__Q13:__ Using our knowledge of the population parameters for our townsfolks' heights, what is the probability of selecting one person at random and their height being 177 cm or less? Calculate this using both of the approaches given above."
   ]
  },
  {
   "cell_type": "markdown",
   "metadata": {},
   "source": [
    "__A:__177 is within 1 std of the sample.  There should be an 84.134% chance that the person is 177 cm or less"
   ]
  },
  {
   "cell_type": "code",
   "execution_count": 53,
   "metadata": {},
   "outputs": [
    {
     "data": {
      "text/plain": [
       "0.8413447460685429"
      ]
     },
     "execution_count": 53,
     "metadata": {},
     "output_type": "execute_result"
    }
   ],
   "source": [
    "#height=x=177, mean height=172, std=5\n",
    "norm.cdf(177, 172, 5)"
   ]
  },
  {
   "cell_type": "markdown",
   "metadata": {},
   "source": [
    "__Q14:__ Turning this question around — suppose we randomly pick one person and measure their height and find they are 2.00 m tall. How surprised should we be at this result, given what we know about the population distribution? In other words, how likely would it be to obtain a value at least as extreme as this? Express this as a probability. "
   ]
  },
  {
   "cell_type": "markdown",
   "metadata": {},
   "source": [
    "__A:__200 is more than 3 std away from the mean of 172.  There should be very low percentage that that the person is 200 cm"
   ]
  },
  {
   "cell_type": "code",
   "execution_count": 54,
   "metadata": {},
   "outputs": [
    {
     "data": {
      "text/plain": [
       "1.0717590259723409e-08"
      ]
     },
     "execution_count": 54,
     "metadata": {},
     "output_type": "execute_result"
    }
   ],
   "source": [
    "#cdf at 2.00 m\n",
    "prob2m = norm.cdf(200, 172, 5)\n",
    "1-prob2m"
   ]
  },
  {
   "cell_type": "markdown",
   "metadata": {},
   "source": [
    "What we've just done is calculate the ***p-value*** of the observation of someone 2.00m tall (review *p*-values if you need to on p. 399 of *AoS*). We could calculate this probability by virtue of knowing the population parameters. We were then able to use the known properties of the relevant normal distribution to calculate the probability of observing a value at least as extreme as our test value."
   ]
  },
  {
   "cell_type": "markdown",
   "metadata": {},
   "source": [
    "We're about to come to a pinch, though. We've said a couple of times that we rarely, if ever, know the true population parameters; we have to estimate them from our sample and we cannot even begin to estimate the standard deviation from a single observation. \n",
    "\n",
    "This is very true and usually we have sample sizes larger than one. This means we can calculate the mean of the sample as our best estimate of the population mean and the standard deviation as our best estimate of the population standard deviation. \n",
    "\n",
    "In other words, we are now coming to deal with the sampling distributions we mentioned above as we are generally concerned with the properties of the sample means we obtain. \n",
    "\n",
    "Above, we highlighted one result from the CLT, whereby the sampling distribution (of the mean) becomes narrower and narrower with the square root of the sample size. We remind ourselves that another result from the CLT is that _even if the underlying population distribution is not normal, the sampling distribution will tend to become normal with sufficiently large sample size_. (**Check out p. 199 of AoS if you need to revise this**). This is the key driver for us 'requiring' a certain sample size, for example you may frequently see a minimum sample size of 30 stated in many places. In reality this is simply a rule of thumb; if the underlying distribution is approximately normal then your sampling distribution will already be pretty normal, but if the underlying distribution is heavily skewed then you'd want to increase your sample size."
   ]
  },
  {
   "cell_type": "markdown",
   "metadata": {},
   "source": [
    "__Q15:__ Let's now start from the position of knowing nothing about the heights of people in our town.\n",
    "* Use the random seed of 47, to randomly sample the heights of 50 townsfolk\n",
    "* Estimate the population mean using np.mean\n",
    "* Estimate the population standard deviation using np.std (remember which denominator to use!)\n",
    "* Calculate the (95%) [margin of error](https://www.statisticshowto.datasciencecentral.com/probability-and-statistics/hypothesis-testing/margin-of-error/#WhatMofE) (use the exact critial z value to 2 decimal places - [look this up](https://www.statisticshowto.datasciencecentral.com/probability-and-statistics/find-critical-values/) or use norm.ppf()) Recall that the ***margin of error*** is mentioned on p. 189 of the *AoS* and discussed in depth in that chapter). \n",
    "* Calculate the 95% Confidence Interval of the mean (***confidence intervals*** are defined on p. 385 of *AoS*) \n",
    "* Does this interval include the true population mean?"
   ]
  },
  {
   "cell_type": "markdown",
   "metadata": {},
   "source": [
    "__A:__"
   ]
  },
  {
   "cell_type": "code",
   "execution_count": 55,
   "metadata": {},
   "outputs": [],
   "source": [
    "seed(47)\n",
    "# take your sample now\n",
    "Hgt_50 = townsfolk_sampler(50)"
   ]
  },
  {
   "cell_type": "code",
   "execution_count": 57,
   "metadata": {},
   "outputs": [
    {
     "name": "stdout",
     "output_type": "stream",
     "text": [
      "Estimated Population Mean: 172.78\n"
     ]
    }
   ],
   "source": [
    "#estimated pop mean\n",
    "mean = np.mean(Hgt_50).round(2)\n",
    "print(f'Estimated Population Mean: {mean}')"
   ]
  },
  {
   "cell_type": "code",
   "execution_count": 60,
   "metadata": {},
   "outputs": [
    {
     "name": "stdout",
     "output_type": "stream",
     "text": [
      "Estimated Standard Deviation (std): 4.2\n"
     ]
    }
   ],
   "source": [
    "#estimated pop std\n",
    "std = np.std(Hgt_50, ddof=1).round(2)\n",
    "print(f'Estimated Standard Deviation (std): {std}')"
   ]
  },
  {
   "cell_type": "code",
   "execution_count": 61,
   "metadata": {},
   "outputs": [
    {
     "name": "stdout",
     "output_type": "stream",
     "text": [
      "The Estimated Margin of Error is: 0.58\n"
     ]
    }
   ],
   "source": [
    "#Calculate the (95%) margin of error (use the exact critial z value \n",
    "    #to 2 decimal places\n",
    "\n",
    "Hgt_50 = np.array(Hgt_50)\n",
    "\n",
    "crit_value = 1-((1-0.95)/2)\n",
    "standard_err = std/(np.sqrt(len(Hgt_50)))\n",
    "margin_of_err = crit_value * standard_err\n",
    "\n",
    "print(f'The Estimated Margin of Error is: {margin_of_err.round(2)}')"
   ]
  },
  {
   "cell_type": "code",
   "execution_count": 63,
   "metadata": {},
   "outputs": [
    {
     "name": "stdout",
     "output_type": "stream",
     "text": [
      "The 95% Confidence Interval of the Mean is Between: 173.36, 172.2\n"
     ]
    }
   ],
   "source": [
    "#Calculate the 95% Confidence Interval of the mean\n",
    "\n",
    "Conf_Int_Upper = (mean + margin_of_err).round(2)\n",
    "Conf_Int_Lower = (mean - margin_of_err).round(2)\n",
    "\n",
    "print(f'The 95% Confidence Interval of the Mean is Between: {Conf_Int_Upper}, {Conf_Int_Lower}')"
   ]
  },
  {
   "cell_type": "markdown",
   "metadata": {},
   "source": [
    "__Q16:__ Above, we calculated the confidence interval using the critical z value. What is the problem with this? What requirement, or requirements, are we (strictly) failing?"
   ]
  },
  {
   "cell_type": "markdown",
   "metadata": {},
   "source": [
    "__A:__The z-value method assumes that the sampling distribution of the sample mean is normally distributed.  The z-value method also assumes that the population standard deviation is known when in fact std is often unknown."
   ]
  },
  {
   "cell_type": "markdown",
   "metadata": {},
   "source": [
    "__Q17:__ Calculate the 95% confidence interval for the mean using the _t_ distribution. Is this wider or narrower than that based on the normal distribution above? If you're unsure, you may find this [resource](https://www.statisticshowto.datasciencecentral.com/probability-and-statistics/confidence-interval/) useful. For calculating the critical value, remember how you could calculate this for the normal distribution using norm.ppf()."
   ]
  },
  {
   "cell_type": "markdown",
   "metadata": {},
   "source": [
    "__A:__"
   ]
  },
  {
   "cell_type": "code",
   "execution_count": 64,
   "metadata": {},
   "outputs": [
    {
     "name": "stdout",
     "output_type": "stream",
     "text": [
      "Critical Value Under T-Distribution: 2.01\n"
     ]
    }
   ],
   "source": [
    "#Calculate the 95% confidence interval for the mean using the t distribution.\n",
    "crit_value_t = t.ppf(0.975, df=len(Hgt_50)-1)\n",
    "print(f'Critical Value Under T-Distribution: {crit_value_t.round(2)}')"
   ]
  },
  {
   "cell_type": "code",
   "execution_count": 66,
   "metadata": {},
   "outputs": [],
   "source": [
    "#Calc critical value, std error and margin of error\n",
    "standard_err = std/(np.sqrt(len(Hgt_50)))\n",
    "margine_of_error_t = crit_value_t * standard_err"
   ]
  },
  {
   "cell_type": "code",
   "execution_count": 67,
   "metadata": {},
   "outputs": [
    {
     "name": "stdout",
     "output_type": "stream",
     "text": [
      "The 95% Confidence Interval of the Mean is Between: 173.36, 172.2\n"
     ]
    }
   ],
   "source": [
    "\n",
    "Conf_Int_Upper = (mean + margin_of_err).round(2)\n",
    "Conf_Int_Lower = (mean - margin_of_err).round(2)\n",
    "\n",
    "print(f'The 95% Confidence Interval of the Mean is Between: {Conf_Int_Upper}, {Conf_Int_Lower}')"
   ]
  },
  {
   "cell_type": "markdown",
   "metadata": {},
   "source": [
    "This is slightly wider than the previous confidence interval. This reflects the greater uncertainty given that we are estimating population parameters from a sample."
   ]
  },
  {
   "cell_type": "markdown",
   "metadata": {},
   "source": [
    "## 4. Learning outcomes"
   ]
  },
  {
   "cell_type": "markdown",
   "metadata": {},
   "source": [
    "Having completed this project notebook, you now have hands-on experience:\n",
    "* sampling and calculating probabilities from a normal distribution\n",
    "* identifying the correct way to estimate the standard deviation of a population (the population parameter) from a sample\n",
    "* with sampling distribution and now know how the Central Limit Theorem applies\n",
    "* with how to calculate critical values and confidence intervals"
   ]
  },
  {
   "cell_type": "code",
   "execution_count": null,
   "metadata": {},
   "outputs": [],
   "source": []
  }
 ],
 "metadata": {
  "kernelspec": {
   "display_name": "Python 3 (ipykernel)",
   "language": "python",
   "name": "python3"
  },
  "language_info": {
   "codemirror_mode": {
    "name": "ipython",
    "version": 3
   },
   "file_extension": ".py",
   "mimetype": "text/x-python",
   "name": "python",
   "nbconvert_exporter": "python",
   "pygments_lexer": "ipython3",
   "version": "3.11.7"
  }
 },
 "nbformat": 4,
 "nbformat_minor": 2
}
